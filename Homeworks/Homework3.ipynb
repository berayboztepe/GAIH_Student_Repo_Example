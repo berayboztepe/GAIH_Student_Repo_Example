{
 "cells": [
  {
   "cell_type": "code",
   "execution_count": 1,
   "metadata": {},
   "outputs": [],
   "source": [
    "import pandas as pd\n",
    "import seaborn as sns\n",
    "import numpy as np\n",
    "import matplotlib.pyplot as plt\n",
    "from sklearn.model_selection import train_test_split\n",
    "from sklearn.tree import DecisionTreeClassifier\n",
    "import os\n",
    "from sklearn.tree import export_graphviz\n",
    "import graphviz\n",
    "import xgboost as xgb\n",
    "from sklearn.datasets import make_blobs\n",
    "from sklearn.metrics import precision_score, recall_score, accuracy_score, f1_score\n",
    "from sklearn.metrics import confusion_matrix"
   ]
  },
  {
   "cell_type": "markdown",
   "metadata": {},
   "source": [
    "## Generated dataset"
   ]
  },
  {
   "cell_type": "code",
   "execution_count": 2,
   "metadata": {},
   "outputs": [
    {
     "name": "stdout",
     "output_type": "stream",
     "text": [
      "(2000, 3)\n"
     ]
    },
    {
     "data": {
      "text/plain": [
       "array([2, 2, 1, ..., 1, 1, 0])"
      ]
     },
     "execution_count": 2,
     "metadata": {},
     "output_type": "execute_result"
    }
   ],
   "source": [
    "X, y = make_blobs(n_samples=2000, n_features=3, random_state=42)\n",
    "print(X.shape)\n",
    "y"
   ]
  },
  {
   "cell_type": "markdown",
   "metadata": {},
   "source": [
    "## Exploring and Analyzing Data"
   ]
  },
  {
   "cell_type": "code",
   "execution_count": 3,
   "metadata": {},
   "outputs": [
    {
     "name": "stdout",
     "output_type": "stream",
     "text": [
      "      Y1\n",
      "0      2\n",
      "1      2\n",
      "2      1\n",
      "3      1\n",
      "4      1\n",
      "...   ..\n",
      "1995   2\n",
      "1996   2\n",
      "1997   1\n",
      "1998   1\n",
      "1999   0\n",
      "\n",
      "[2000 rows x 1 columns]\n"
     ]
    },
    {
     "data": {
      "text/html": [
       "<div>\n",
       "<style scoped>\n",
       "    .dataframe tbody tr th:only-of-type {\n",
       "        vertical-align: middle;\n",
       "    }\n",
       "\n",
       "    .dataframe tbody tr th {\n",
       "        vertical-align: top;\n",
       "    }\n",
       "\n",
       "    .dataframe thead th {\n",
       "        text-align: right;\n",
       "    }\n",
       "</style>\n",
       "<table border=\"1\" class=\"dataframe\">\n",
       "  <thead>\n",
       "    <tr style=\"text-align: right;\">\n",
       "      <th></th>\n",
       "      <th>X1</th>\n",
       "      <th>X2</th>\n",
       "      <th>X3</th>\n",
       "    </tr>\n",
       "  </thead>\n",
       "  <tbody>\n",
       "    <tr>\n",
       "      <th>0</th>\n",
       "      <td>-8.499150</td>\n",
       "      <td>5.667142</td>\n",
       "      <td>1.509983</td>\n",
       "    </tr>\n",
       "    <tr>\n",
       "      <th>1</th>\n",
       "      <td>-9.736497</td>\n",
       "      <td>7.584346</td>\n",
       "      <td>1.997468</td>\n",
       "    </tr>\n",
       "    <tr>\n",
       "      <th>2</th>\n",
       "      <td>0.773310</td>\n",
       "      <td>-7.171882</td>\n",
       "      <td>-6.727008</td>\n",
       "    </tr>\n",
       "    <tr>\n",
       "      <th>3</th>\n",
       "      <td>1.745282</td>\n",
       "      <td>-5.885697</td>\n",
       "      <td>-7.788316</td>\n",
       "    </tr>\n",
       "    <tr>\n",
       "      <th>4</th>\n",
       "      <td>1.583768</td>\n",
       "      <td>-5.288722</td>\n",
       "      <td>-7.983133</td>\n",
       "    </tr>\n",
       "    <tr>\n",
       "      <th>...</th>\n",
       "      <td>...</td>\n",
       "      <td>...</td>\n",
       "      <td>...</td>\n",
       "    </tr>\n",
       "    <tr>\n",
       "      <th>1995</th>\n",
       "      <td>-7.004843</td>\n",
       "      <td>6.572623</td>\n",
       "      <td>-0.021636</td>\n",
       "    </tr>\n",
       "    <tr>\n",
       "      <th>1996</th>\n",
       "      <td>-10.213553</td>\n",
       "      <td>7.144539</td>\n",
       "      <td>1.863649</td>\n",
       "    </tr>\n",
       "    <tr>\n",
       "      <th>1997</th>\n",
       "      <td>0.055070</td>\n",
       "      <td>-7.029731</td>\n",
       "      <td>-5.528081</td>\n",
       "    </tr>\n",
       "    <tr>\n",
       "      <th>1998</th>\n",
       "      <td>3.402287</td>\n",
       "      <td>-7.494578</td>\n",
       "      <td>-6.555095</td>\n",
       "    </tr>\n",
       "    <tr>\n",
       "      <th>1999</th>\n",
       "      <td>-4.138791</td>\n",
       "      <td>9.566150</td>\n",
       "      <td>6.645453</td>\n",
       "    </tr>\n",
       "  </tbody>\n",
       "</table>\n",
       "<p>2000 rows × 3 columns</p>\n",
       "</div>"
      ],
      "text/plain": [
       "             X1        X2        X3\n",
       "0     -8.499150  5.667142  1.509983\n",
       "1     -9.736497  7.584346  1.997468\n",
       "2      0.773310 -7.171882 -6.727008\n",
       "3      1.745282 -5.885697 -7.788316\n",
       "4      1.583768 -5.288722 -7.983133\n",
       "...         ...       ...       ...\n",
       "1995  -7.004843  6.572623 -0.021636\n",
       "1996 -10.213553  7.144539  1.863649\n",
       "1997   0.055070 -7.029731 -5.528081\n",
       "1998   3.402287 -7.494578 -6.555095\n",
       "1999  -4.138791  9.566150  6.645453\n",
       "\n",
       "[2000 rows x 3 columns]"
      ]
     },
     "execution_count": 3,
     "metadata": {},
     "output_type": "execute_result"
    }
   ],
   "source": [
    "X_df = pd.DataFrame(X, columns=[\"X1\", \"X2\", \"X3\"])\n",
    "y_df = pd.DataFrame(y, columns=[\"Y1\"])\n",
    "print(y_df)\n",
    "X_df"
   ]
  },
  {
   "cell_type": "code",
   "execution_count": 4,
   "metadata": {},
   "outputs": [
    {
     "name": "stdout",
     "output_type": "stream",
     "text": [
      "Y1    0\n",
      "dtype: int64\n"
     ]
    },
    {
     "data": {
      "text/plain": [
       "X1    0\n",
       "X2    0\n",
       "X3    0\n",
       "dtype: int64"
      ]
     },
     "execution_count": 4,
     "metadata": {},
     "output_type": "execute_result"
    }
   ],
   "source": [
    "print(y_df.isna().sum())\n",
    "X_df.isna().sum()"
   ]
  },
  {
   "cell_type": "code",
   "execution_count": 5,
   "metadata": {},
   "outputs": [
    {
     "name": "stdout",
     "output_type": "stream",
     "text": [
      "<class 'pandas.core.frame.DataFrame'>\n",
      "RangeIndex: 2000 entries, 0 to 1999\n",
      "Data columns (total 3 columns):\n",
      " #   Column  Non-Null Count  Dtype  \n",
      "---  ------  --------------  -----  \n",
      " 0   X1      2000 non-null   float64\n",
      " 1   X2      2000 non-null   float64\n",
      " 2   X3      2000 non-null   float64\n",
      "dtypes: float64(3)\n",
      "memory usage: 47.0 KB\n",
      "None\n"
     ]
    },
    {
     "data": {
      "text/html": [
       "<div>\n",
       "<style scoped>\n",
       "    .dataframe tbody tr th:only-of-type {\n",
       "        vertical-align: middle;\n",
       "    }\n",
       "\n",
       "    .dataframe tbody tr th {\n",
       "        vertical-align: top;\n",
       "    }\n",
       "\n",
       "    .dataframe thead th {\n",
       "        text-align: right;\n",
       "    }\n",
       "</style>\n",
       "<table border=\"1\" class=\"dataframe\">\n",
       "  <thead>\n",
       "    <tr style=\"text-align: right;\">\n",
       "      <th></th>\n",
       "      <th>X1</th>\n",
       "      <th>X2</th>\n",
       "      <th>X3</th>\n",
       "    </tr>\n",
       "  </thead>\n",
       "  <tbody>\n",
       "    <tr>\n",
       "      <th>count</th>\n",
       "      <td>2000.000000</td>\n",
       "      <td>2000.000000</td>\n",
       "      <td>2000.000000</td>\n",
       "    </tr>\n",
       "    <tr>\n",
       "      <th>mean</th>\n",
       "      <td>-3.185601</td>\n",
       "      <td>3.158252</td>\n",
       "      <td>-0.058714</td>\n",
       "    </tr>\n",
       "    <tr>\n",
       "      <th>std</th>\n",
       "      <td>4.552214</td>\n",
       "      <td>7.209014</td>\n",
       "      <td>5.037935</td>\n",
       "    </tr>\n",
       "    <tr>\n",
       "      <th>min</th>\n",
       "      <td>-12.420390</td>\n",
       "      <td>-10.351057</td>\n",
       "      <td>-9.712629</td>\n",
       "    </tr>\n",
       "    <tr>\n",
       "      <th>25%</th>\n",
       "      <td>-8.239049</td>\n",
       "      <td>-6.206542</td>\n",
       "      <td>-6.163356</td>\n",
       "    </tr>\n",
       "    <tr>\n",
       "      <th>50%</th>\n",
       "      <td>-2.522167</td>\n",
       "      <td>7.251697</td>\n",
       "      <td>1.965763</td>\n",
       "    </tr>\n",
       "    <tr>\n",
       "      <th>75%</th>\n",
       "      <td>1.275338</td>\n",
       "      <td>8.652427</td>\n",
       "      <td>4.039708</td>\n",
       "    </tr>\n",
       "    <tr>\n",
       "      <th>max</th>\n",
       "      <td>4.543077</td>\n",
       "      <td>11.952039</td>\n",
       "      <td>8.012175</td>\n",
       "    </tr>\n",
       "  </tbody>\n",
       "</table>\n",
       "</div>"
      ],
      "text/plain": [
       "                X1           X2           X3\n",
       "count  2000.000000  2000.000000  2000.000000\n",
       "mean     -3.185601     3.158252    -0.058714\n",
       "std       4.552214     7.209014     5.037935\n",
       "min     -12.420390   -10.351057    -9.712629\n",
       "25%      -8.239049    -6.206542    -6.163356\n",
       "50%      -2.522167     7.251697     1.965763\n",
       "75%       1.275338     8.652427     4.039708\n",
       "max       4.543077    11.952039     8.012175"
      ]
     },
     "execution_count": 5,
     "metadata": {},
     "output_type": "execute_result"
    }
   ],
   "source": [
    "print(X_df.info())\n",
    "X_df.describe()"
   ]
  },
  {
   "cell_type": "code",
   "execution_count": 6,
   "metadata": {},
   "outputs": [
    {
     "data": {
      "text/html": [
       "<div>\n",
       "<style scoped>\n",
       "    .dataframe tbody tr th:only-of-type {\n",
       "        vertical-align: middle;\n",
       "    }\n",
       "\n",
       "    .dataframe tbody tr th {\n",
       "        vertical-align: top;\n",
       "    }\n",
       "\n",
       "    .dataframe thead th {\n",
       "        text-align: right;\n",
       "    }\n",
       "</style>\n",
       "<table border=\"1\" class=\"dataframe\">\n",
       "  <thead>\n",
       "    <tr style=\"text-align: right;\">\n",
       "      <th></th>\n",
       "      <th>X1</th>\n",
       "      <th>X2</th>\n",
       "      <th>X3</th>\n",
       "      <th>Y1</th>\n",
       "    </tr>\n",
       "  </thead>\n",
       "  <tbody>\n",
       "    <tr>\n",
       "      <th>0</th>\n",
       "      <td>-8.499150</td>\n",
       "      <td>5.667142</td>\n",
       "      <td>1.509983</td>\n",
       "      <td>2</td>\n",
       "    </tr>\n",
       "    <tr>\n",
       "      <th>1</th>\n",
       "      <td>-9.736497</td>\n",
       "      <td>7.584346</td>\n",
       "      <td>1.997468</td>\n",
       "      <td>2</td>\n",
       "    </tr>\n",
       "    <tr>\n",
       "      <th>2</th>\n",
       "      <td>0.773310</td>\n",
       "      <td>-7.171882</td>\n",
       "      <td>-6.727008</td>\n",
       "      <td>1</td>\n",
       "    </tr>\n",
       "    <tr>\n",
       "      <th>3</th>\n",
       "      <td>1.745282</td>\n",
       "      <td>-5.885697</td>\n",
       "      <td>-7.788316</td>\n",
       "      <td>1</td>\n",
       "    </tr>\n",
       "    <tr>\n",
       "      <th>4</th>\n",
       "      <td>1.583768</td>\n",
       "      <td>-5.288722</td>\n",
       "      <td>-7.983133</td>\n",
       "      <td>1</td>\n",
       "    </tr>\n",
       "    <tr>\n",
       "      <th>...</th>\n",
       "      <td>...</td>\n",
       "      <td>...</td>\n",
       "      <td>...</td>\n",
       "      <td>...</td>\n",
       "    </tr>\n",
       "    <tr>\n",
       "      <th>1995</th>\n",
       "      <td>-7.004843</td>\n",
       "      <td>6.572623</td>\n",
       "      <td>-0.021636</td>\n",
       "      <td>2</td>\n",
       "    </tr>\n",
       "    <tr>\n",
       "      <th>1996</th>\n",
       "      <td>-10.213553</td>\n",
       "      <td>7.144539</td>\n",
       "      <td>1.863649</td>\n",
       "      <td>2</td>\n",
       "    </tr>\n",
       "    <tr>\n",
       "      <th>1997</th>\n",
       "      <td>0.055070</td>\n",
       "      <td>-7.029731</td>\n",
       "      <td>-5.528081</td>\n",
       "      <td>1</td>\n",
       "    </tr>\n",
       "    <tr>\n",
       "      <th>1998</th>\n",
       "      <td>3.402287</td>\n",
       "      <td>-7.494578</td>\n",
       "      <td>-6.555095</td>\n",
       "      <td>1</td>\n",
       "    </tr>\n",
       "    <tr>\n",
       "      <th>1999</th>\n",
       "      <td>-4.138791</td>\n",
       "      <td>9.566150</td>\n",
       "      <td>6.645453</td>\n",
       "      <td>0</td>\n",
       "    </tr>\n",
       "  </tbody>\n",
       "</table>\n",
       "<p>2000 rows × 4 columns</p>\n",
       "</div>"
      ],
      "text/plain": [
       "             X1        X2        X3  Y1\n",
       "0     -8.499150  5.667142  1.509983   2\n",
       "1     -9.736497  7.584346  1.997468   2\n",
       "2      0.773310 -7.171882 -6.727008   1\n",
       "3      1.745282 -5.885697 -7.788316   1\n",
       "4      1.583768 -5.288722 -7.983133   1\n",
       "...         ...       ...       ...  ..\n",
       "1995  -7.004843  6.572623 -0.021636   2\n",
       "1996 -10.213553  7.144539  1.863649   2\n",
       "1997   0.055070 -7.029731 -5.528081   1\n",
       "1998   3.402287 -7.494578 -6.555095   1\n",
       "1999  -4.138791  9.566150  6.645453   0\n",
       "\n",
       "[2000 rows x 4 columns]"
      ]
     },
     "execution_count": 6,
     "metadata": {},
     "output_type": "execute_result"
    }
   ],
   "source": [
    "data = pd.concat([X_df, y_df], axis=1)\n",
    "data"
   ]
  },
  {
   "cell_type": "code",
   "execution_count": 7,
   "metadata": {
    "scrolled": false
   },
   "outputs": [
    {
     "data": {
      "text/plain": [
       "<seaborn.axisgrid.PairGrid at 0x281358573a0>"
      ]
     },
     "execution_count": 7,
     "metadata": {},
     "output_type": "execute_result"
    },
    {
     "data": {
      "image/png": "[encoded data removed]",
      "text/plain": [
       "<Figure size 582.375x540 with 12 Axes>"
      ]
     },
     "metadata": {
      "needs_background": "light"
     },
     "output_type": "display_data"
    }
   ],
   "source": [
    "sns.pairplot(data, hue=\"Y1\")"
   ]
  },
  {
   "cell_type": "code",
   "execution_count": 8,
   "metadata": {},
   "outputs": [
    {
     "data": {
      "text/html": [
       "<div>\n",
       "<style scoped>\n",
       "    .dataframe tbody tr th:only-of-type {\n",
       "        vertical-align: middle;\n",
       "    }\n",
       "\n",
       "    .dataframe tbody tr th {\n",
       "        vertical-align: top;\n",
       "    }\n",
       "\n",
       "    .dataframe thead th {\n",
       "        text-align: right;\n",
       "    }\n",
       "</style>\n",
       "<table border=\"1\" class=\"dataframe\">\n",
       "  <thead>\n",
       "    <tr style=\"text-align: right;\">\n",
       "      <th></th>\n",
       "      <th>X1</th>\n",
       "      <th>X2</th>\n",
       "      <th>X3</th>\n",
       "    </tr>\n",
       "    <tr>\n",
       "      <th>Y1</th>\n",
       "      <th></th>\n",
       "      <th></th>\n",
       "      <th></th>\n",
       "    </tr>\n",
       "  </thead>\n",
       "  <tbody>\n",
       "    <tr>\n",
       "      <th>0</th>\n",
       "      <td>667</td>\n",
       "      <td>667</td>\n",
       "      <td>667</td>\n",
       "    </tr>\n",
       "    <tr>\n",
       "      <th>1</th>\n",
       "      <td>667</td>\n",
       "      <td>667</td>\n",
       "      <td>667</td>\n",
       "    </tr>\n",
       "    <tr>\n",
       "      <th>2</th>\n",
       "      <td>666</td>\n",
       "      <td>666</td>\n",
       "      <td>666</td>\n",
       "    </tr>\n",
       "  </tbody>\n",
       "</table>\n",
       "</div>"
      ],
      "text/plain": [
       "     X1   X2   X3\n",
       "Y1               \n",
       "0   667  667  667\n",
       "1   667  667  667\n",
       "2   666  666  666"
      ]
     },
     "execution_count": 8,
     "metadata": {},
     "output_type": "execute_result"
    }
   ],
   "source": [
    "data.groupby(by=\"Y1\").count()"
   ]
  },
  {
   "cell_type": "code",
   "execution_count": 9,
   "metadata": {},
   "outputs": [
    {
     "data": {
      "text/plain": [
       "<matplotlib.axes._subplots.AxesSubplot at 0x2811b849a90>"
      ]
     },
     "execution_count": 9,
     "metadata": {},
     "output_type": "execute_result"
    },
    {
     "data": {
      "image/png": "[encoded data removed]",
      "text/plain": [
       "<Figure size 432x288 with 1 Axes>"
      ]
     },
     "metadata": {
      "needs_background": "light"
     },
     "output_type": "display_data"
    }
   ],
   "source": [
    "sns.distplot(data[data.Y1 == 0].X1)\n",
    "sns.distplot(data[data.Y1 == 1].X1,color=\"r\")\n",
    "sns.distplot(data[data.Y1 == 2].X1,color=\"g\")"
   ]
  },
  {
   "cell_type": "code",
   "execution_count": 10,
   "metadata": {},
   "outputs": [
    {
     "data": {
      "text/plain": [
       "<matplotlib.axes._subplots.AxesSubplot at 0x2811bbf4d90>"
      ]
     },
     "execution_count": 10,
     "metadata": {},
     "output_type": "execute_result"
    },
    {
     "data": {
      "image/png": "[encoded data removed]",
      "text/plain": [
       "<Figure size 432x288 with 1 Axes>"
      ]
     },
     "metadata": {
      "needs_background": "light"
     },
     "output_type": "display_data"
    }
   ],
   "source": [
    "sns.distplot(data[data.Y1 == 0].X2)\n",
    "sns.distplot(data[data.Y1 == 1].X2,color=\"r\")\n",
    "sns.distplot(data[data.Y1 == 2].X2,color=\"g\")"
   ]
  },
  {
   "cell_type": "code",
   "execution_count": 11,
   "metadata": {},
   "outputs": [
    {
     "data": {
      "text/plain": [
       "<matplotlib.axes._subplots.AxesSubplot at 0x2811bcfa850>"
      ]
     },
     "execution_count": 11,
     "metadata": {},
     "output_type": "execute_result"
    },
    {
     "data": {
      "image/png": "[encoded data removed]",
      "text/plain": [
       "<Figure size 432x288 with 1 Axes>"
      ]
     },
     "metadata": {
      "needs_background": "light"
     },
     "output_type": "display_data"
    }
   ],
   "source": [
    "sns.distplot(data[data.Y1 == 0].X3)\n",
    "sns.distplot(data[data.Y1 == 1].X3,color=\"r\")\n",
    "sns.distplot(data[data.Y1 == 2].X3,color=\"g\")"
   ]
  },
  {
   "cell_type": "markdown",
   "metadata": {},
   "source": [
    "## Train and Test Split"
   ]
  },
  {
   "cell_type": "code",
   "execution_count": 12,
   "metadata": {},
   "outputs": [
    {
     "data": {
      "text/plain": [
       "array([[-1.67784836,  8.8328078 ,  5.4119004 ],\n",
       "       [ 2.30523493, -5.99844385, -7.26035115],\n",
       "       [ 2.35198021, -6.50179797, -7.47318173],\n",
       "       ...,\n",
       "       [-9.91150627,  8.01015111,  1.87114795],\n",
       "       [-3.76254582,  9.36293047,  3.22905434],\n",
       "       [-9.29143535,  6.83013217,  2.89096328]])"
      ]
     },
     "execution_count": 12,
     "metadata": {},
     "output_type": "execute_result"
    }
   ],
   "source": [
    "X_train, X_test, y_train, y_test = train_test_split(X, y, test_size=0.33, random_state=123)\n",
    "X_train"
   ]
  },
  {
   "cell_type": "markdown",
   "metadata": {},
   "source": [
    "## Defining Decision Tree"
   ]
  },
  {
   "cell_type": "code",
   "execution_count": 13,
   "metadata": {},
   "outputs": [
    {
     "name": "stdout",
     "output_type": "stream",
     "text": [
      "Accuracy of train: 0.6835820895522388\n",
      "Accuracy of test: 0.6333333333333333\n"
     ]
    }
   ],
   "source": [
    "dc = DecisionTreeClassifier(max_depth=1, random_state=42)\n",
    "dc.fit(X_train, y_train)\n",
    "print(\"Accuracy of train:\",dc.score(X_train,y_train))\n",
    "print(\"Accuracy of test:\",dc.score(X_test,y_test))"
   ]
  },
  {
   "cell_type": "markdown",
   "metadata": {},
   "source": [
    "### If max_depth is greater than 1, whatevet the max_depth is, accuracy of test and train will be 1.0 so there might me overfitting\n",
    "\n",
    "### If max_depth is 1, accuracy will be among 0.60-0.70 for test and train"
   ]
  },
  {
   "cell_type": "code",
   "execution_count": 14,
   "metadata": {
    "scrolled": true
   },
   "outputs": [
    {
     "data": {
      "image/svg+xml": [
       "<?xml version=\"1.0\" encoding=\"UTF-8\" standalone=\"no\"?>\r\n",
       "<!DOCTYPE svg PUBLIC \"-//W3C//DTD SVG 1.1//EN\"\r\n",
       " \"http://www.w3.org/Graphics/SVG/1.1/DTD/svg11.dtd\">\r\n",
       "<!-- Generated by graphviz version 2.38.0 (20140413.2041)\r\n",
       " -->\r\n",
       "<!-- Title: Tree Pages: 1 -->\r\n",
       "<svg width=\"302pt\" height=\"195pt\"\r\n",
       " viewBox=\"0.00 0.00 301.50 195.00\" xmlns=\"http://www.w3.org/2000/svg\" xmlns:xlink=\"http://www.w3.org/1999/xlink\">\r\n",
       "<g id=\"graph0\" class=\"graph\" transform=\"scale(1 1) rotate(0) translate(4 191)\">\r\n",
       "<title>Tree</title>\r\n",
       "<polygon fill=\"white\" stroke=\"none\" points=\"-4,4 -4,-191 297.5,-191 297.5,4 -4,4\"/>\r\n",
       "<!-- 0 -->\r\n",
       "<g id=\"node1\" class=\"node\"><title>0</title>\r\n",
       "<path fill=\"#f8fefb\" stroke=\"black\" d=\"M211.5,-187C211.5,-187 73.5,-187 73.5,-187 67.5,-187 61.5,-181 61.5,-175 61.5,-175 61.5,-116 61.5,-116 61.5,-110 67.5,-104 73.5,-104 73.5,-104 211.5,-104 211.5,-104 217.5,-104 223.5,-110 223.5,-116 223.5,-116 223.5,-175 223.5,-175 223.5,-181 217.5,-187 211.5,-187\"/>\r\n",
       "<text text-anchor=\"middle\" x=\"142.5\" y=\"-171.8\" font-family=\"Helvetica,sans-Serif\" font-size=\"14.00\">X2 &lt;= 0.003</text>\r\n",
       "<text text-anchor=\"middle\" x=\"142.5\" y=\"-156.8\" font-family=\"Helvetica,sans-Serif\" font-size=\"14.00\">gini = 0.666</text>\r\n",
       "<text text-anchor=\"middle\" x=\"142.5\" y=\"-141.8\" font-family=\"Helvetica,sans-Serif\" font-size=\"14.00\">samples = 1340</text>\r\n",
       "<text text-anchor=\"middle\" x=\"142.5\" y=\"-126.8\" font-family=\"Helvetica,sans-Serif\" font-size=\"14.00\">value = [443, 473, 424]</text>\r\n",
       "<text text-anchor=\"middle\" x=\"142.5\" y=\"-111.8\" font-family=\"Helvetica,sans-Serif\" font-size=\"14.00\">class = 1</text>\r\n",
       "</g>\r\n",
       "<!-- 1 -->\r\n",
       "<g id=\"node2\" class=\"node\"><title>1</title>\r\n",
       "<path fill=\"#39e581\" stroke=\"black\" d=\"M117,-68C117,-68 12,-68 12,-68 6,-68 0,-62 0,-56 0,-56 0,-12 0,-12 0,-6 6,-0 12,-0 12,-0 117,-0 117,-0 123,-0 129,-6 129,-12 129,-12 129,-56 129,-56 129,-62 123,-68 117,-68\"/>\r\n",
       "<text text-anchor=\"middle\" x=\"64.5\" y=\"-52.8\" font-family=\"Helvetica,sans-Serif\" font-size=\"14.00\">gini = 0.0</text>\r\n",
       "<text text-anchor=\"middle\" x=\"64.5\" y=\"-37.8\" font-family=\"Helvetica,sans-Serif\" font-size=\"14.00\">samples = 473</text>\r\n",
       "<text text-anchor=\"middle\" x=\"64.5\" y=\"-22.8\" font-family=\"Helvetica,sans-Serif\" font-size=\"14.00\">value = [0, 473, 0]</text>\r\n",
       "<text text-anchor=\"middle\" x=\"64.5\" y=\"-7.8\" font-family=\"Helvetica,sans-Serif\" font-size=\"14.00\">class = 1</text>\r\n",
       "</g>\r\n",
       "<!-- 0&#45;&gt;1 -->\r\n",
       "<g id=\"edge1\" class=\"edge\"><title>0&#45;&gt;1</title>\r\n",
       "<path fill=\"none\" stroke=\"black\" d=\"M113.456,-103.726C107.154,-94.879 100.48,-85.51 94.1544,-76.6303\"/>\r\n",
       "<polygon fill=\"black\" stroke=\"black\" points=\"96.8728,-74.4138 88.2203,-68.2996 91.1714,-78.4751 96.8728,-74.4138\"/>\r\n",
       "<text text-anchor=\"middle\" x=\"84.0783\" y=\"-89.2541\" font-family=\"Helvetica,sans-Serif\" font-size=\"14.00\">True</text>\r\n",
       "</g>\r\n",
       "<!-- 2 -->\r\n",
       "<g id=\"node3\" class=\"node\"><title>2</title>\r\n",
       "<path fill=\"#fefaf7\" stroke=\"black\" d=\"M281.5,-68C281.5,-68 159.5,-68 159.5,-68 153.5,-68 147.5,-62 147.5,-56 147.5,-56 147.5,-12 147.5,-12 147.5,-6 153.5,-0 159.5,-0 159.5,-0 281.5,-0 281.5,-0 287.5,-0 293.5,-6 293.5,-12 293.5,-12 293.5,-56 293.5,-56 293.5,-62 287.5,-68 281.5,-68\"/>\r\n",
       "<text text-anchor=\"middle\" x=\"220.5\" y=\"-52.8\" font-family=\"Helvetica,sans-Serif\" font-size=\"14.00\">gini = 0.5</text>\r\n",
       "<text text-anchor=\"middle\" x=\"220.5\" y=\"-37.8\" font-family=\"Helvetica,sans-Serif\" font-size=\"14.00\">samples = 867</text>\r\n",
       "<text text-anchor=\"middle\" x=\"220.5\" y=\"-22.8\" font-family=\"Helvetica,sans-Serif\" font-size=\"14.00\">value = [443, 0, 424]</text>\r\n",
       "<text text-anchor=\"middle\" x=\"220.5\" y=\"-7.8\" font-family=\"Helvetica,sans-Serif\" font-size=\"14.00\">class = 0</text>\r\n",
       "</g>\r\n",
       "<!-- 0&#45;&gt;2 -->\r\n",
       "<g id=\"edge2\" class=\"edge\"><title>0&#45;&gt;2</title>\r\n",
       "<path fill=\"none\" stroke=\"black\" d=\"M171.544,-103.726C177.846,-94.879 184.52,-85.51 190.846,-76.6303\"/>\r\n",
       "<polygon fill=\"black\" stroke=\"black\" points=\"193.829,-78.4751 196.78,-68.2996 188.127,-74.4138 193.829,-78.4751\"/>\r\n",
       "<text text-anchor=\"middle\" x=\"200.922\" y=\"-89.2541\" font-family=\"Helvetica,sans-Serif\" font-size=\"14.00\">False</text>\r\n",
       "</g>\r\n",
       "</g>\r\n",
       "</svg>\r\n"
      ],
      "text/plain": [
       "<graphviz.files.Source at 0x2811bdd7280>"
      ]
     },
     "execution_count": 14,
     "metadata": {},
     "output_type": "execute_result"
    }
   ],
   "source": [
    "classes = ['0', '1', '2']\n",
    "os.environ[\"PATH\"] += ';' + r'C:\\Users\\beray\\anaconda3\\Library\\bin\\graphviz'\n",
    "\n",
    "dot_data = export_graphviz(dc, out_file=None,\n",
    "                     feature_names=X_df.columns,\n",
    "                     class_names=classes,\n",
    "                     filled=True, rounded=True)\n",
    "graph = graphviz.Source(dot_data)\n",
    "graph"
   ]
  },
  {
   "cell_type": "markdown",
   "metadata": {},
   "source": [
    "### So as we see in this graph, not all the samples have leaf nodes and accuracy has low value. So there might be underfitting problem"
   ]
  },
  {
   "cell_type": "code",
   "execution_count": 15,
   "metadata": {},
   "outputs": [
    {
     "name": "stdout",
     "output_type": "stream",
     "text": [
      "Precision = 0.7217077027332279\n",
      "Recall = 0.6666666666666666\n",
      "Accuracy = 0.6333333333333333\n",
      "F1 Score = 0.5497584541062802\n"
     ]
    }
   ],
   "source": [
    "# Metrics\n",
    "pred = dc.predict(X_test)\n",
    "print(\"Precision = {}\".format(precision_score(y_test, pred, average='weighted', labels=np.unique(pred))))\n",
    "print(\"Recall = {}\".format(recall_score(y_test, pred, average='macro')))\n",
    "print(\"Accuracy = {}\".format(accuracy_score(y_test, pred)))\n",
    "print(\"F1 Score = {}\".format(f1_score(y_test, pred,average='macro')))"
   ]
  },
  {
   "cell_type": "code",
   "execution_count": 16,
   "metadata": {},
   "outputs": [
    {
     "data": {
      "text/plain": [
       "array([[224,   0,   0],\n",
       "       [  0, 194,   0],\n",
       "       [242,   0,   0]], dtype=int64)"
      ]
     },
     "execution_count": 16,
     "metadata": {},
     "output_type": "execute_result"
    }
   ],
   "source": [
    "confusion_matrix(y_test, pred)"
   ]
  },
  {
   "cell_type": "markdown",
   "metadata": {},
   "source": [
    "### Let's look at max_depth >= 2"
   ]
  },
  {
   "cell_type": "code",
   "execution_count": 17,
   "metadata": {},
   "outputs": [
    {
     "name": "stdout",
     "output_type": "stream",
     "text": [
      "Accuracy of train: 1.0\n",
      "Accuracy of test: 1.0\n"
     ]
    }
   ],
   "source": [
    "dc1 = DecisionTreeClassifier(max_depth=2, random_state=42)\n",
    "dc1.fit(X_train, y_train)\n",
    "print(\"Accuracy of train:\",dc1.score(X_train,y_train))\n",
    "print(\"Accuracy of test:\",dc1.score(X_test,y_test))"
   ]
  },
  {
   "cell_type": "code",
   "execution_count": 18,
   "metadata": {},
   "outputs": [
    {
     "data": {
      "image/svg+xml": [
       "<?xml version=\"1.0\" encoding=\"UTF-8\" standalone=\"no\"?>\r\n",
       "<!DOCTYPE svg PUBLIC \"-//W3C//DTD SVG 1.1//EN\"\r\n",
       " \"http://www.w3.org/Graphics/SVG/1.1/DTD/svg11.dtd\">\r\n",
       "<!-- Generated by graphviz version 2.38.0 (20140413.2041)\r\n",
       " -->\r\n",
       "<!-- Title: Tree Pages: 1 -->\r\n",
       "<svg width=\"366pt\" height=\"314pt\"\r\n",
       " viewBox=\"0.00 0.00 366.00 314.00\" xmlns=\"http://www.w3.org/2000/svg\" xmlns:xlink=\"http://www.w3.org/1999/xlink\">\r\n",
       "<g id=\"graph0\" class=\"graph\" transform=\"scale(1 1) rotate(0) translate(4 310)\">\r\n",
       "<title>Tree</title>\r\n",
       "<polygon fill=\"white\" stroke=\"none\" points=\"-4,4 -4,-310 362,-310 362,4 -4,4\"/>\r\n",
       "<!-- 0 -->\r\n",
       "<g id=\"node1\" class=\"node\"><title>0</title>\r\n",
       "<path fill=\"#f8fefb\" stroke=\"black\" d=\"M211.5,-306C211.5,-306 73.5,-306 73.5,-306 67.5,-306 61.5,-300 61.5,-294 61.5,-294 61.5,-235 61.5,-235 61.5,-229 67.5,-223 73.5,-223 73.5,-223 211.5,-223 211.5,-223 217.5,-223 223.5,-229 223.5,-235 223.5,-235 223.5,-294 223.5,-294 223.5,-300 217.5,-306 211.5,-306\"/>\r\n",
       "<text text-anchor=\"middle\" x=\"142.5\" y=\"-290.8\" font-family=\"Helvetica,sans-Serif\" font-size=\"14.00\">X2 &lt;= 0.003</text>\r\n",
       "<text text-anchor=\"middle\" x=\"142.5\" y=\"-275.8\" font-family=\"Helvetica,sans-Serif\" font-size=\"14.00\">gini = 0.666</text>\r\n",
       "<text text-anchor=\"middle\" x=\"142.5\" y=\"-260.8\" font-family=\"Helvetica,sans-Serif\" font-size=\"14.00\">samples = 1340</text>\r\n",
       "<text text-anchor=\"middle\" x=\"142.5\" y=\"-245.8\" font-family=\"Helvetica,sans-Serif\" font-size=\"14.00\">value = [443, 473, 424]</text>\r\n",
       "<text text-anchor=\"middle\" x=\"142.5\" y=\"-230.8\" font-family=\"Helvetica,sans-Serif\" font-size=\"14.00\">class = 1</text>\r\n",
       "</g>\r\n",
       "<!-- 1 -->\r\n",
       "<g id=\"node2\" class=\"node\"><title>1</title>\r\n",
       "<path fill=\"#39e581\" stroke=\"black\" d=\"M117,-179.5C117,-179.5 12,-179.5 12,-179.5 6,-179.5 0,-173.5 0,-167.5 0,-167.5 0,-123.5 0,-123.5 0,-117.5 6,-111.5 12,-111.5 12,-111.5 117,-111.5 117,-111.5 123,-111.5 129,-117.5 129,-123.5 129,-123.5 129,-167.5 129,-167.5 129,-173.5 123,-179.5 117,-179.5\"/>\r\n",
       "<text text-anchor=\"middle\" x=\"64.5\" y=\"-164.3\" font-family=\"Helvetica,sans-Serif\" font-size=\"14.00\">gini = 0.0</text>\r\n",
       "<text text-anchor=\"middle\" x=\"64.5\" y=\"-149.3\" font-family=\"Helvetica,sans-Serif\" font-size=\"14.00\">samples = 473</text>\r\n",
       "<text text-anchor=\"middle\" x=\"64.5\" y=\"-134.3\" font-family=\"Helvetica,sans-Serif\" font-size=\"14.00\">value = [0, 473, 0]</text>\r\n",
       "<text text-anchor=\"middle\" x=\"64.5\" y=\"-119.3\" font-family=\"Helvetica,sans-Serif\" font-size=\"14.00\">class = 1</text>\r\n",
       "</g>\r\n",
       "<!-- 0&#45;&gt;1 -->\r\n",
       "<g id=\"edge1\" class=\"edge\"><title>0&#45;&gt;1</title>\r\n",
       "<path fill=\"none\" stroke=\"black\" d=\"M115.438,-222.907C107.935,-211.652 99.7789,-199.418 92.2375,-188.106\"/>\r\n",
       "<polygon fill=\"black\" stroke=\"black\" points=\"95.0705,-186.046 86.6113,-179.667 89.2462,-189.929 95.0705,-186.046\"/>\r\n",
       "<text text-anchor=\"middle\" x=\"81.7084\" y=\"-200.481\" font-family=\"Helvetica,sans-Serif\" font-size=\"14.00\">True</text>\r\n",
       "</g>\r\n",
       "<!-- 2 -->\r\n",
       "<g id=\"node3\" class=\"node\"><title>2</title>\r\n",
       "<path fill=\"#fefaf7\" stroke=\"black\" d=\"M281.5,-187C281.5,-187 159.5,-187 159.5,-187 153.5,-187 147.5,-181 147.5,-175 147.5,-175 147.5,-116 147.5,-116 147.5,-110 153.5,-104 159.5,-104 159.5,-104 281.5,-104 281.5,-104 287.5,-104 293.5,-110 293.5,-116 293.5,-116 293.5,-175 293.5,-175 293.5,-181 287.5,-187 281.5,-187\"/>\r\n",
       "<text text-anchor=\"middle\" x=\"220.5\" y=\"-171.8\" font-family=\"Helvetica,sans-Serif\" font-size=\"14.00\">X1 &lt;= &#45;5.553</text>\r\n",
       "<text text-anchor=\"middle\" x=\"220.5\" y=\"-156.8\" font-family=\"Helvetica,sans-Serif\" font-size=\"14.00\">gini = 0.5</text>\r\n",
       "<text text-anchor=\"middle\" x=\"220.5\" y=\"-141.8\" font-family=\"Helvetica,sans-Serif\" font-size=\"14.00\">samples = 867</text>\r\n",
       "<text text-anchor=\"middle\" x=\"220.5\" y=\"-126.8\" font-family=\"Helvetica,sans-Serif\" font-size=\"14.00\">value = [443, 0, 424]</text>\r\n",
       "<text text-anchor=\"middle\" x=\"220.5\" y=\"-111.8\" font-family=\"Helvetica,sans-Serif\" font-size=\"14.00\">class = 0</text>\r\n",
       "</g>\r\n",
       "<!-- 0&#45;&gt;2 -->\r\n",
       "<g id=\"edge2\" class=\"edge\"><title>0&#45;&gt;2</title>\r\n",
       "<path fill=\"none\" stroke=\"black\" d=\"M169.562,-222.907C175.43,-214.105 181.698,-204.703 187.759,-195.612\"/>\r\n",
       "<polygon fill=\"black\" stroke=\"black\" points=\"190.851,-197.283 193.486,-187.021 185.027,-193.4 190.851,-197.283\"/>\r\n",
       "<text text-anchor=\"middle\" x=\"198.389\" y=\"-207.835\" font-family=\"Helvetica,sans-Serif\" font-size=\"14.00\">False</text>\r\n",
       "</g>\r\n",
       "<!-- 3 -->\r\n",
       "<g id=\"node4\" class=\"node\"><title>3</title>\r\n",
       "<path fill=\"#8139e5\" stroke=\"black\" d=\"M199,-68C199,-68 94,-68 94,-68 88,-68 82,-62 82,-56 82,-56 82,-12 82,-12 82,-6 88,-0 94,-0 94,-0 199,-0 199,-0 205,-0 211,-6 211,-12 211,-12 211,-56 211,-56 211,-62 205,-68 199,-68\"/>\r\n",
       "<text text-anchor=\"middle\" x=\"146.5\" y=\"-52.8\" font-family=\"Helvetica,sans-Serif\" font-size=\"14.00\">gini = 0.0</text>\r\n",
       "<text text-anchor=\"middle\" x=\"146.5\" y=\"-37.8\" font-family=\"Helvetica,sans-Serif\" font-size=\"14.00\">samples = 424</text>\r\n",
       "<text text-anchor=\"middle\" x=\"146.5\" y=\"-22.8\" font-family=\"Helvetica,sans-Serif\" font-size=\"14.00\">value = [0, 0, 424]</text>\r\n",
       "<text text-anchor=\"middle\" x=\"146.5\" y=\"-7.8\" font-family=\"Helvetica,sans-Serif\" font-size=\"14.00\">class = 2</text>\r\n",
       "</g>\r\n",
       "<!-- 2&#45;&gt;3 -->\r\n",
       "<g id=\"edge3\" class=\"edge\"><title>2&#45;&gt;3</title>\r\n",
       "<path fill=\"none\" stroke=\"black\" d=\"M192.945,-103.726C186.966,-94.879 180.635,-85.51 174.634,-76.6303\"/>\r\n",
       "<polygon fill=\"black\" stroke=\"black\" points=\"177.503,-74.6253 169.004,-68.2996 171.703,-78.5448 177.503,-74.6253\"/>\r\n",
       "</g>\r\n",
       "<!-- 4 -->\r\n",
       "<g id=\"node5\" class=\"node\"><title>4</title>\r\n",
       "<path fill=\"#e58139\" stroke=\"black\" d=\"M346,-68C346,-68 241,-68 241,-68 235,-68 229,-62 229,-56 229,-56 229,-12 229,-12 229,-6 235,-0 241,-0 241,-0 346,-0 346,-0 352,-0 358,-6 358,-12 358,-12 358,-56 358,-56 358,-62 352,-68 346,-68\"/>\r\n",
       "<text text-anchor=\"middle\" x=\"293.5\" y=\"-52.8\" font-family=\"Helvetica,sans-Serif\" font-size=\"14.00\">gini = 0.0</text>\r\n",
       "<text text-anchor=\"middle\" x=\"293.5\" y=\"-37.8\" font-family=\"Helvetica,sans-Serif\" font-size=\"14.00\">samples = 443</text>\r\n",
       "<text text-anchor=\"middle\" x=\"293.5\" y=\"-22.8\" font-family=\"Helvetica,sans-Serif\" font-size=\"14.00\">value = [443, 0, 0]</text>\r\n",
       "<text text-anchor=\"middle\" x=\"293.5\" y=\"-7.8\" font-family=\"Helvetica,sans-Serif\" font-size=\"14.00\">class = 0</text>\r\n",
       "</g>\r\n",
       "<!-- 2&#45;&gt;4 -->\r\n",
       "<g id=\"edge4\" class=\"edge\"><title>2&#45;&gt;4</title>\r\n",
       "<path fill=\"none\" stroke=\"black\" d=\"M247.683,-103.726C253.581,-94.879 259.827,-85.51 265.746,-76.6303\"/>\r\n",
       "<polygon fill=\"black\" stroke=\"black\" points=\"268.665,-78.5616 271.3,-68.2996 262.841,-74.6787 268.665,-78.5616\"/>\r\n",
       "</g>\r\n",
       "</g>\r\n",
       "</svg>\r\n"
      ],
      "text/plain": [
       "<graphviz.files.Source at 0x2811bdd7220>"
      ]
     },
     "execution_count": 18,
     "metadata": {},
     "output_type": "execute_result"
    }
   ],
   "source": [
    "os.environ[\"PATH\"] += ';' + r'C:\\Users\\beray\\anaconda3\\Library\\bin\\graphviz'\n",
    "\n",
    "dot_data = export_graphviz(dc1, out_file=None,\n",
    "                     feature_names=X_df.columns,\n",
    "                     class_names=classes,\n",
    "                     filled=True, rounded=True)\n",
    "graph = graphviz.Source(dot_data)\n",
    "graph"
   ]
  },
  {
   "cell_type": "markdown",
   "metadata": {},
   "source": [
    "### As we see all the samples have leaf node so all of them replaced. This means there is a overfitting problem"
   ]
  },
  {
   "cell_type": "code",
   "execution_count": 19,
   "metadata": {},
   "outputs": [
    {
     "name": "stdout",
     "output_type": "stream",
     "text": [
      "Precision = 1.0\n",
      "Recall = 1.0\n",
      "Accuracy = 1.0\n",
      "F1 Score = 1.0\n"
     ]
    }
   ],
   "source": [
    "# Metrics\n",
    "pred1 = dc1.predict(X_test)\n",
    "print(\"Precision = {}\".format(precision_score(y_test, pred1, average='weighted', labels=np.unique(pred))))\n",
    "print(\"Recall = {}\".format(recall_score(y_test, pred1, average='macro')))\n",
    "print(\"Accuracy = {}\".format(accuracy_score(y_test, pred1)))\n",
    "print(\"F1 Score = {}\".format(f1_score(y_test, pred1,average='macro')))"
   ]
  },
  {
   "cell_type": "code",
   "execution_count": 20,
   "metadata": {},
   "outputs": [
    {
     "data": {
      "text/plain": [
       "array([[224,   0,   0],\n",
       "       [  0, 194,   0],\n",
       "       [  0,   0, 242]], dtype=int64)"
      ]
     },
     "execution_count": 20,
     "metadata": {},
     "output_type": "execute_result"
    }
   ],
   "source": [
    "confusion_matrix(y_test, pred1)"
   ]
  },
  {
   "cell_type": "markdown",
   "metadata": {},
   "source": [
    "### Trying XGBoost Algorithm"
   ]
  },
  {
   "cell_type": "code",
   "execution_count": 21,
   "metadata": {},
   "outputs": [],
   "source": [
    "train = xgb.DMatrix(X_train, y_train)\n",
    "test = xgb.DMatrix(X_test, y_test)"
   ]
  },
  {
   "cell_type": "code",
   "execution_count": 22,
   "metadata": {},
   "outputs": [
    {
     "name": "stdout",
     "output_type": "stream",
     "text": [
      "[00:21:11] WARNING: C:/Users/Administrator/workspace/xgboost-win64_release_1.3.0/src/learner.cc:1061: Starting in XGBoost 1.3.0, the default evaluation metric used with the objective 'multi:softprob' was changed from 'merror' to 'mlogloss'. Explicitly set eval_metric if you'd like to restore the old behavior.\n"
     ]
    }
   ],
   "source": [
    "par = {'max_depth':1, \n",
    "         'eta':1, \n",
    "         'objective':'multi:softprob', \n",
    "         'num_class':3}\n",
    "num_round = 5\n",
    "model = xgb.train(par, train, num_round)"
   ]
  },
  {
   "cell_type": "code",
   "execution_count": 23,
   "metadata": {},
   "outputs": [
    {
     "data": {
      "text/plain": [
       "array([[0.00346166, 0.00133673, 0.9952016 ],\n",
       "       [0.9504616 , 0.02476672, 0.02477161],\n",
       "       [0.00496814, 0.99344337, 0.00158853],\n",
       "       [0.00496814, 0.99344337, 0.00158853],\n",
       "       [0.00175164, 0.00133903, 0.9969093 ],\n",
       "       [0.00175164, 0.00133903, 0.9969093 ],\n",
       "       [0.00346166, 0.00133673, 0.9952016 ],\n",
       "       [0.00496814, 0.99344337, 0.00158853],\n",
       "       [0.00496814, 0.99344337, 0.00158853],\n",
       "       [0.00408344, 0.0013359 , 0.9945807 ]], dtype=float32)"
      ]
     },
     "execution_count": 23,
     "metadata": {},
     "output_type": "execute_result"
    }
   ],
   "source": [
    "preds = model.predict(test)\n",
    "preds[:10]"
   ]
  },
  {
   "cell_type": "code",
   "execution_count": 24,
   "metadata": {
    "scrolled": true
   },
   "outputs": [
    {
     "data": {
      "text/plain": [
       "array([2, 0, 1, 1, 2, 2, 2, 1, 1, 2, 0, 2, 1, 0, 2, 0, 1, 0, 1, 2, 0, 1,\n",
       "       1, 0, 0, 0, 1, 1, 0, 0, 2, 1, 2, 1, 2, 2, 2, 1, 1, 2, 1, 2, 2, 0,\n",
       "       2, 1, 1, 0, 1, 0, 0, 0, 0, 0, 2, 0, 2, 0, 0, 0, 1, 0, 1, 0, 1, 0,\n",
       "       0, 1, 0, 1, 2, 1, 0, 2, 0, 0, 2, 2, 2, 2, 2, 0, 0, 0, 0, 2, 1, 2,\n",
       "       0, 2, 2, 0, 0, 2, 2, 0, 2, 0, 1, 0, 1, 1, 2, 1, 2, 1, 0, 0, 0, 2,\n",
       "       2, 2, 2, 2, 1, 1, 2, 0, 0, 1, 2, 0, 0, 2, 2, 1, 2, 1, 2, 0, 2, 2,\n",
       "       0, 2, 0, 2, 0, 0, 0, 1, 2, 1, 2, 2, 0, 1, 1, 0, 0, 2, 0, 2, 0, 1,\n",
       "       0, 1, 1, 0, 1, 2, 1, 1, 2, 0, 0, 0, 2, 1, 2, 0, 2, 2, 2, 1, 0, 0,\n",
       "       2, 1, 2, 1, 1, 1, 0, 2, 2, 2, 1, 2, 2, 0, 2, 1, 1, 2, 0, 1, 0, 2,\n",
       "       0, 2, 2, 2, 1, 0, 1, 1, 2, 0, 0, 0, 0, 2, 0, 1, 2, 1, 2, 1, 0, 0,\n",
       "       0, 2, 0, 2, 0, 0, 1, 0, 0, 2, 2, 1, 1, 0, 1, 2, 2, 0, 0, 1, 1, 2,\n",
       "       2, 0, 2, 1, 0, 2, 0, 0, 2, 0, 2, 2, 1, 2, 2, 1, 2, 1, 2, 2, 1, 0,\n",
       "       2, 1, 1, 1, 2, 2, 1, 2, 1, 0, 1, 1, 2, 2, 0, 2, 0, 1, 0, 1, 2, 1,\n",
       "       2, 2, 0, 2, 0, 0, 2, 2, 2, 2, 1, 0, 2, 0, 2, 1, 1, 2, 0, 2, 2, 0,\n",
       "       0, 2, 0, 2, 2, 2, 1, 0, 2, 2, 2, 1, 1, 0, 0, 0, 1, 2, 1, 2, 1, 0,\n",
       "       1, 0, 2, 0, 2, 1, 1, 2, 2, 2, 2, 1, 0, 0, 2, 0, 0, 0, 0, 0, 2, 2,\n",
       "       0, 2, 2, 1, 0, 2, 0, 2, 2, 2, 1, 0, 2, 1, 0, 2, 2, 2, 0, 1, 0, 1,\n",
       "       0, 0, 1, 1, 1, 0, 1, 2, 1, 1, 2, 2, 1, 2, 2, 1, 1, 0, 0, 0, 0, 2,\n",
       "       1, 2, 1, 2, 2, 0, 1, 1, 0, 2, 1, 2, 2, 1, 2, 0, 2, 1, 2, 2, 0, 1,\n",
       "       1, 0, 1, 2, 2, 2, 0, 0, 1, 1, 2, 1, 1, 2, 2, 0, 1, 2, 1, 1, 0, 2,\n",
       "       2, 2, 0, 0, 2, 0, 0, 0, 2, 1, 1, 0, 2, 0, 2, 1, 2, 2, 1, 0, 2, 0,\n",
       "       2, 2, 2, 1, 1, 0, 0, 2, 0, 0, 2, 2, 0, 0, 2, 2, 0, 0, 1, 2, 0, 1,\n",
       "       0, 1, 2, 1, 1, 1, 0, 0, 1, 2, 2, 0, 2, 0, 1, 1, 1, 0, 0, 0, 1, 0,\n",
       "       1, 0, 2, 2, 1, 0, 2, 1, 0, 2, 0, 2, 2, 1, 1, 0, 2, 2, 0, 2, 1, 1,\n",
       "       1, 2, 0, 2, 1, 2, 2, 0, 1, 0, 0, 0, 2, 1, 2, 2, 1, 1, 0, 0, 0, 0,\n",
       "       0, 2, 0, 0, 1, 2, 1, 0, 2, 1, 1, 1, 1, 0, 0, 2, 1, 0, 0, 0, 2, 1,\n",
       "       0, 2, 2, 0, 0, 0, 1, 1, 2, 0, 0, 1, 2, 0, 2, 0, 1, 0, 1, 2, 0, 0,\n",
       "       2, 0, 1, 2, 1, 2, 0, 1, 1, 1, 1, 1, 1, 2, 0, 1, 0, 0, 0, 2, 0, 2,\n",
       "       0, 1, 1, 1, 2, 2, 1, 0, 1, 1, 2, 2, 0, 0, 0, 0, 1, 1, 2, 2, 2, 2,\n",
       "       2, 1, 0, 2, 0, 2, 2, 1, 1, 2, 2, 0, 2, 1, 2, 1, 1, 2, 1, 2, 0, 0],\n",
       "      dtype=int64)"
      ]
     },
     "execution_count": 24,
     "metadata": {},
     "output_type": "execute_result"
    }
   ],
   "source": [
    "best = [np.argmax(i) for i in preds]\n",
    "best = np.array(best)\n",
    "best"
   ]
  },
  {
   "cell_type": "code",
   "execution_count": 26,
   "metadata": {},
   "outputs": [
    {
     "name": "stdout",
     "output_type": "stream",
     "text": [
      "Precision = 1.0\n",
      "Recall = 1.0\n",
      "Accuracy = 1.0\n"
     ]
    }
   ],
   "source": [
    "print(\"Precision = {}\".format(precision_score(y_test, best, average='macro')))\n",
    "print(\"Recall = {}\".format(recall_score(y_test, best, average='macro')))\n",
    "print(\"Accuracy = {}\".format(accuracy_score(y_test, best)))"
   ]
  },
  {
   "cell_type": "code",
   "execution_count": 27,
   "metadata": {},
   "outputs": [
    {
     "data": {
      "text/plain": [
       "array([[224,   0,   0],\n",
       "       [  0, 194,   0],\n",
       "       [  0,   0, 242]], dtype=int64)"
      ]
     },
     "execution_count": 27,
     "metadata": {},
     "output_type": "execute_result"
    }
   ],
   "source": [
    "confusion_matrix(y_test, best)"
   ]
  },
  {
   "cell_type": "markdown",
   "metadata": {},
   "source": [
    "### The same result as decision tree when max_depth is 1. So there is overfitting problem"
   ]
  },
  {
   "cell_type": "code",
   "execution_count": 28,
   "metadata": {},
   "outputs": [
    {
     "name": "stdout",
     "output_type": "stream",
     "text": [
      "[00:22:40] WARNING: C:/Users/Administrator/workspace/xgboost-win64_release_1.3.0/src/learner.cc:1061: Starting in XGBoost 1.3.0, the default evaluation metric used with the objective 'multi:softprob' was changed from 'merror' to 'mlogloss'. Explicitly set eval_metric if you'd like to restore the old behavior.\n"
     ]
    }
   ],
   "source": [
    "par1 = {'max_depth':1, \n",
    "         'eta':1, \n",
    "         'objective':'multi:softprob', \n",
    "         'num_class':3}\n",
    "num_round1 = 1\n",
    "model1 = xgb.train(par, train, num_round1)"
   ]
  },
  {
   "cell_type": "code",
   "execution_count": 29,
   "metadata": {},
   "outputs": [
    {
     "data": {
      "text/plain": [
       "array([[0.09647866, 0.08692173, 0.81659967],\n",
       "       [0.35691446, 0.32155943, 0.3215261 ],\n",
       "       [0.09641522, 0.8167291 , 0.08685558],\n",
       "       [0.09641522, 0.8167291 , 0.08685558],\n",
       "       [0.09647866, 0.08692173, 0.81659967],\n",
       "       [0.09647866, 0.08692173, 0.81659967],\n",
       "       [0.09647866, 0.08692173, 0.81659967],\n",
       "       [0.09641522, 0.8167291 , 0.08685558],\n",
       "       [0.09641522, 0.8167291 , 0.08685558],\n",
       "       [0.09647866, 0.08692173, 0.81659967]], dtype=float32)"
      ]
     },
     "execution_count": 29,
     "metadata": {},
     "output_type": "execute_result"
    }
   ],
   "source": [
    "preds1 = model1.predict(test)\n",
    "preds1[:10]"
   ]
  },
  {
   "cell_type": "code",
   "execution_count": 30,
   "metadata": {},
   "outputs": [
    {
     "data": {
      "text/plain": [
       "array([2, 0, 1, 1, 2, 2, 2, 1, 1, 2, 0, 2, 1, 0, 2, 0, 1, 0, 1, 2, 0, 1,\n",
       "       1, 0, 0, 0, 1, 1, 0, 0, 2, 1, 2, 1, 2, 2, 2, 1, 1, 2, 1, 2, 2, 0,\n",
       "       2, 1, 1, 0, 1, 0, 0, 0, 0, 0, 2, 0, 2, 0, 0, 0, 1, 0, 1, 0, 1, 0,\n",
       "       0, 1, 0, 1, 2, 1, 0, 2, 0, 0, 2, 2, 2, 2, 2, 0, 0, 0, 0, 2, 1, 2,\n",
       "       0, 2, 2, 0, 0, 2, 2, 0, 2, 0, 1, 0, 1, 1, 2, 1, 2, 1, 0, 0, 0, 2,\n",
       "       2, 2, 2, 2, 1, 1, 2, 0, 0, 1, 2, 0, 0, 2, 2, 1, 2, 1, 2, 0, 2, 2,\n",
       "       0, 2, 0, 2, 0, 0, 0, 1, 2, 1, 2, 2, 0, 1, 1, 0, 0, 2, 0, 2, 0, 1,\n",
       "       0, 1, 1, 0, 1, 2, 1, 1, 2, 0, 0, 0, 2, 1, 2, 0, 2, 2, 2, 1, 0, 0,\n",
       "       2, 1, 2, 1, 1, 1, 0, 2, 2, 2, 1, 2, 2, 0, 2, 1, 1, 2, 0, 1, 0, 2,\n",
       "       0, 2, 2, 2, 1, 0, 1, 1, 2, 0, 0, 0, 0, 2, 0, 1, 2, 1, 2, 1, 0, 0,\n",
       "       0, 2, 0, 2, 0, 0, 1, 0, 0, 2, 2, 1, 1, 0, 1, 2, 2, 0, 0, 1, 1, 2,\n",
       "       2, 0, 2, 1, 0, 2, 0, 0, 2, 0, 2, 2, 1, 2, 2, 1, 2, 1, 2, 2, 1, 0,\n",
       "       2, 1, 1, 1, 2, 2, 1, 2, 1, 0, 1, 1, 2, 2, 0, 2, 0, 1, 0, 1, 2, 1,\n",
       "       2, 2, 0, 2, 0, 0, 2, 2, 2, 2, 1, 0, 2, 0, 2, 1, 1, 2, 0, 2, 2, 0,\n",
       "       0, 2, 0, 2, 2, 2, 1, 0, 2, 2, 2, 1, 1, 0, 0, 0, 1, 2, 1, 2, 1, 0,\n",
       "       1, 0, 2, 0, 2, 1, 1, 2, 2, 2, 2, 1, 0, 0, 2, 0, 0, 0, 0, 0, 2, 2,\n",
       "       0, 2, 2, 1, 0, 2, 0, 2, 2, 2, 1, 0, 2, 1, 0, 2, 2, 2, 0, 1, 0, 1,\n",
       "       0, 0, 1, 1, 1, 0, 1, 2, 1, 1, 2, 2, 1, 2, 2, 1, 1, 0, 0, 0, 0, 2,\n",
       "       1, 2, 1, 2, 2, 0, 1, 1, 0, 2, 1, 2, 2, 1, 2, 0, 2, 1, 2, 2, 0, 1,\n",
       "       1, 0, 1, 2, 2, 2, 0, 0, 1, 1, 2, 1, 1, 2, 2, 0, 1, 2, 1, 1, 0, 2,\n",
       "       2, 2, 0, 0, 2, 0, 0, 0, 2, 1, 1, 0, 2, 0, 2, 1, 2, 2, 1, 0, 2, 0,\n",
       "       2, 2, 2, 1, 1, 0, 0, 2, 0, 0, 2, 2, 0, 0, 2, 2, 0, 0, 1, 2, 0, 1,\n",
       "       0, 1, 2, 1, 1, 1, 0, 0, 1, 2, 2, 0, 2, 0, 1, 1, 1, 0, 0, 0, 1, 0,\n",
       "       1, 0, 2, 2, 1, 0, 2, 1, 0, 2, 0, 2, 2, 1, 1, 0, 2, 2, 0, 2, 1, 1,\n",
       "       1, 2, 0, 2, 1, 2, 2, 0, 1, 0, 0, 0, 2, 1, 2, 2, 1, 1, 0, 0, 0, 0,\n",
       "       0, 2, 0, 0, 1, 2, 1, 0, 2, 1, 1, 1, 1, 0, 0, 2, 1, 0, 0, 0, 2, 1,\n",
       "       0, 2, 2, 0, 0, 0, 1, 1, 2, 0, 0, 1, 2, 0, 2, 0, 1, 0, 1, 2, 0, 0,\n",
       "       2, 0, 1, 2, 1, 2, 0, 1, 1, 1, 1, 1, 1, 2, 0, 1, 0, 0, 0, 2, 0, 2,\n",
       "       0, 1, 1, 1, 2, 2, 1, 0, 1, 1, 2, 2, 0, 0, 0, 0, 1, 1, 2, 2, 2, 2,\n",
       "       2, 1, 0, 2, 0, 2, 2, 1, 1, 2, 2, 0, 2, 1, 2, 1, 1, 2, 1, 2, 0, 0],\n",
       "      dtype=int64)"
      ]
     },
     "execution_count": 30,
     "metadata": {},
     "output_type": "execute_result"
    }
   ],
   "source": [
    "best1 = [np.argmax(i) for i in preds1]\n",
    "best1 = np.array(best1)\n",
    "best1"
   ]
  },
  {
   "cell_type": "code",
   "execution_count": 31,
   "metadata": {},
   "outputs": [
    {
     "name": "stdout",
     "output_type": "stream",
     "text": [
      "Precision = 1.0\n",
      "Recall = 1.0\n",
      "Accuracy = 1.0\n"
     ]
    }
   ],
   "source": [
    "print(\"Precision = {}\".format(precision_score(y_test, best1, average='macro')))\n",
    "print(\"Recall = {}\".format(recall_score(y_test, best1, average='macro')))\n",
    "print(\"Accuracy = {}\".format(accuracy_score(y_test, best1)))"
   ]
  },
  {
   "cell_type": "markdown",
   "metadata": {},
   "source": [
    "### When we decrease num_round, the result does not change"
   ]
  }
 ],
 "metadata": {
  "kernelspec": {
   "display_name": "Python 3",
   "language": "python",
   "name": "python3"
  },
  "language_info": {
   "codemirror_mode": {
    "name": "ipython",
    "version": 3
   },
   "file_extension": ".py",
   "mimetype": "text/x-python",
   "name": "python",
   "nbconvert_exporter": "python",
   "pygments_lexer": "ipython3",
   "version": "3.8.3"
  }
 },
 "nbformat": 4,
 "nbformat_minor": 4
}
